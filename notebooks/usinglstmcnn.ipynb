{
 "cells": [
  {
   "cell_type": "code",
   "execution_count": null,
   "id": "e60ba8f2",
   "metadata": {
    "_cell_guid": "b1076dfc-b9ad-4769-8c92-a6c4dae69d19",
    "_uuid": "8f2839f25d086af736a60e9eeb907d3b93b6e0e5",
    "execution": {
     "iopub.execute_input": "2024-04-13T11:23:24.658706Z",
     "iopub.status.busy": "2024-04-13T11:23:24.658364Z",
     "iopub.status.idle": "2024-04-13T11:23:37.301979Z",
     "shell.execute_reply": "2024-04-13T11:23:37.300872Z"
    },
    "papermill": {
     "duration": 12.655861,
     "end_time": "2024-04-13T11:23:37.304931",
     "exception": false,
     "start_time": "2024-04-13T11:23:24.649070",
     "status": "completed"
    },
    "tags": []
   },
   "outputs": [],
   "source": [
    "import numpy as np # linear algebra\n",
    "import pandas as pd # data processing, CSV file I/O (e.g. pd.read_csv)\n",
    "from keras.applications import ResNet50\n",
    "import os\n",
    "from sklearn.metrics import roc_curve, roc_auc_score\n",
    "import cv2\n",
    "import matplotlib.pyplot as plt\n",
    "from glob import glob\n",
    "import matplotlib.pyplot as plt\n",
    "import seaborn as sns\n",
    "from sklearn.metrics import confusion_matrix\n",
    "from sklearn.metrics import classification_report\n",
    "from tensorflow import keras\n",
    "import tensorflow\n",
    "import tensorflow as tf\n",
    "from tensorflow.keras.layers import Input, Lambda, Dense, Flatten,Dropout,BatchNormalization,GlobalAveragePooling2D,Dropout,MaxPooling2D,Attention,Conv2D,concatenate\n",
    "from tensorflow.keras import regularizers\n",
    "from tensorflow.keras.models import Model\n",
    "from tensorflow.keras.applications.mobilenet import MobileNet\n",
    "from tensorflow.keras.applications.mobilenet import preprocess_input\n",
    "from tensorflow.keras.applications import Xception,VGG16,VGG19,MobileNetV2\n",
    "from tensorflow.keras.preprocessing import image\n",
    "from tensorflow.keras.applications.xception import preprocess_input, decode_predictions\n",
    "from tensorflow.keras.applications.vgg19 import preprocess_input, decode_predictions\n",
    "from tensorflow.keras.applications.mobilenet_v2 import preprocess_input, decode_predictions\n",
    "from tensorflow.keras.preprocessing import image\n",
    "from tensorflow.keras.preprocessing.image import ImageDataGenerator\n",
    "from tensorflow.keras.regularizers import l2\n",
    "from tensorflow.keras.layers import Layer, MultiHeadAttention\n",
    "from tensorflow.keras.layers import LayerNormalization\n",
    "from tensorflow.keras.models import Sequential\n",
    "from tensorflow.keras.optimizers import Adam\n",
    "from tensorflow.keras.applications import Xception\n",
    "from tensorflow.keras.models import Sequential\n",
    "from tensorflow.keras.layers import Dense, Flatten, Dropout, LeakyReLU\n",
    "from sklearn.metrics import precision_recall_curve\n",
    "from sklearn.metrics import auc\n",
    "import matplotlib.pyplot as plt"
   ]
  },
  {
   "cell_type": "code",
   "execution_count": 2,
   "id": "6a339e4e",
   "metadata": {
    "execution": {
     "iopub.execute_input": "2024-04-13T11:23:37.325560Z",
     "iopub.status.busy": "2024-04-13T11:23:37.324762Z",
     "iopub.status.idle": "2024-04-13T11:23:37.329512Z",
     "shell.execute_reply": "2024-04-13T11:23:37.328404Z"
    },
    "papermill": {
     "duration": 0.016869,
     "end_time": "2024-04-13T11:23:37.331482",
     "exception": false,
     "start_time": "2024-04-13T11:23:37.314613",
     "status": "completed"
    },
    "tags": []
   },
   "outputs": [],
   "source": [
    "train_path=\"/kaggle/input/deepfake-and-real-images/Dataset/Train\"\n",
    "test_path=\"/kaggle/input/deepfake-and-real-images/Dataset/Test\"\n",
    "val_path=\"/kaggle/input/deepfake-and-real-images/Dataset/Validation\""
   ]
  },
  {
   "cell_type": "code",
   "execution_count": 3,
   "id": "3037f5c8",
   "metadata": {
    "execution": {
     "iopub.execute_input": "2024-04-13T11:23:37.345709Z",
     "iopub.status.busy": "2024-04-13T11:23:37.345438Z",
     "iopub.status.idle": "2024-04-13T11:23:37.351619Z",
     "shell.execute_reply": "2024-04-13T11:23:37.350773Z"
    },
    "papermill": {
     "duration": 0.015472,
     "end_time": "2024-04-13T11:23:37.353561",
     "exception": false,
     "start_time": "2024-04-13T11:23:37.338089",
     "status": "completed"
    },
    "tags": []
   },
   "outputs": [],
   "source": [
    "import os\n",
    "import cv2 \n",
    "\n",
    "def FrameCapture(path): \n",
    "\n",
    "    vidObj = cv2.VideoCapture(path) \n",
    "\n",
    "    # Used as counter variable \n",
    "    count = 0\n",
    "\n",
    "    success = 1\n",
    "\n",
    "    if not os.path.exists(\"frames\"):\n",
    "        os.makedirs(\"frames\")\n",
    "\n",
    "    while success: \n",
    "\n",
    "        # vidObj object calls read \n",
    "        # function extract frames \n",
    "        success, image = vidObj.read() \n",
    "\n",
    "        # Check if the image is empty\n",
    "        if not success:\n",
    "            break\n",
    "\n",
    "        # Saves the frames with frame-count \n",
    "        # Modifying to save frames with 'frame' prefix and count as multiples of 10\n",
    "        frames_num = 20\n",
    "        if count % frames_num == 0:\n",
    "            cv2.imwrite(\"frames/frame%d.jpg\" % (count), image) \n",
    "\n",
    "        count += 1\n"
   ]
  },
  {
   "cell_type": "code",
   "execution_count": 4,
   "id": "9cbb41d8",
   "metadata": {
    "execution": {
     "iopub.execute_input": "2024-04-13T11:23:37.367824Z",
     "iopub.status.busy": "2024-04-13T11:23:37.367567Z",
     "iopub.status.idle": "2024-04-13T11:23:37.395137Z",
     "shell.execute_reply": "2024-04-13T11:23:37.394236Z"
    },
    "papermill": {
     "duration": 0.036952,
     "end_time": "2024-04-13T11:23:37.397182",
     "exception": false,
     "start_time": "2024-04-13T11:23:37.360230",
     "status": "completed"
    },
    "tags": []
   },
   "outputs": [],
   "source": [
    "FrameCapture(\"/kaggle/input/test-video\") "
   ]
  },
  {
   "cell_type": "code",
   "execution_count": null,
   "id": "86f1817f",
   "metadata": {
    "execution": {
     "iopub.execute_input": "2024-04-13T11:23:37.412633Z",
     "iopub.status.busy": "2024-04-13T11:23:37.411845Z",
     "iopub.status.idle": "2024-04-13T11:26:16.294187Z",
     "shell.execute_reply": "2024-04-13T11:26:16.293410Z"
    },
    "papermill": {
     "duration": 158.892387,
     "end_time": "2024-04-13T11:26:16.296306",
     "exception": false,
     "start_time": "2024-04-13T11:23:37.403919",
     "status": "completed"
    },
    "tags": []
   },
   "outputs": [],
   "source": [
    "train_datagen = ImageDataGenerator( \n",
    "    rescale=1./255,\n",
    "    rotation_range=20,\n",
    "    width_shift_range=0.2,\n",
    "    height_shift_range=0.2,\n",
    "    shear_range=0.2,\n",
    "    zoom_range=0.2,\n",
    "    horizontal_flip=True,\n",
    ")\n",
    "\n",
    "test_datagen = ImageDataGenerator(rescale=1./255)\n",
    "val_datagen = ImageDataGenerator(rescale=1./255.0)\n",
    "\n",
    "# Data Generators\n",
    "training_set = train_datagen.flow_from_directory(\n",
    "    train_path,\n",
    "    target_size=(224, 224),  # Adjusted target size\n",
    "    batch_size=64,  # Increased batch size\n",
    "    class_mode='binary'\n",
    ")\n",
    "\n",
    "test_set = test_datagen.flow_from_directory(\n",
    "    test_path,\n",
    "    target_size=(224, 224),  # Adjusted target size\n",
    "    batch_size=32,\n",
    "    class_mode='binary',\n",
    "    shuffle=False\n",
    ")\n",
    "\n",
    "val_set = val_datagen.flow_from_directory(\n",
    "    val_path,\n",
    "    target_size=(224, 224),  # Adjusted target size\n",
    "    batch_size=32,\n",
    "    class_mode='binary'\n",
    ")\n"
   ]
  },
  {
   "cell_type": "code",
   "execution_count": null,
   "id": "b8a523a8",
   "metadata": {
    "execution": {
     "iopub.execute_input": "2024-04-13T11:26:16.311646Z",
     "iopub.status.busy": "2024-04-13T11:26:16.311080Z",
     "iopub.status.idle": "2024-04-13T11:26:19.834723Z",
     "shell.execute_reply": "2024-04-13T11:26:19.833956Z"
    },
    "papermill": {
     "duration": 3.53369,
     "end_time": "2024-04-13T11:26:19.837051",
     "exception": false,
     "start_time": "2024-04-13T11:26:16.303361",
     "status": "completed"
    },
    "tags": []
   },
   "outputs": [],
   "source": [
    "from tensorflow.keras.layers import LSTM, TimeDistributed\n",
    "# Define the LSTM configuration\n",
    "from tensorflow.keras.layers import Reshape\n",
    "lstm_units = 64  # Adjust as needed\n",
    "\n",
    "# Define the CNN part of the model\n",
    "base_model = Meso4(input_shape=(224, 224, 3))\n",
    "x = base_model.output\n",
    "x = GlobalAveragePooling2D()(x)\n",
    "cnn_output = Dense(16, activation='relu')(x)\n",
    "\n",
    "# Reshape CNN output to fit LSTM input\n",
    "reshaped_cnn_output = Reshape((1, 16))(cnn_output)  # Assuming output shape of Dense layer is (None, 16)\n",
    "\n",
    "# Define the LSTM layer\n",
    "lstm_layer = LSTM(units=lstm_units)\n",
    "\n",
    "# Apply LSTM to the reshaped CNN output\n",
    "lstm_output = lstm_layer(reshaped_cnn_output)\n",
    "\n",
    "# Output layer\n",
    "predictions = Dense(1, activation='sigmoid')(lstm_output)\n",
    "\n",
    "# Combine the models\n",
    "combined_model = Model(inputs=base_model.input, outputs=predictions)"
   ]
  },
  {
   "cell_type": "code",
   "execution_count": 7,
   "id": "bfccda36",
   "metadata": {
    "execution": {
     "iopub.execute_input": "2024-04-13T11:26:19.854367Z",
     "iopub.status.busy": "2024-04-13T11:26:19.854083Z",
     "iopub.status.idle": "2024-04-13T11:26:19.857781Z",
     "shell.execute_reply": "2024-04-13T11:26:19.856969Z"
    },
    "papermill": {
     "duration": 0.014386,
     "end_time": "2024-04-13T11:26:19.859628",
     "exception": false,
     "start_time": "2024-04-13T11:26:19.845242",
     "status": "completed"
    },
    "tags": []
   },
   "outputs": [],
   "source": [
    "#combined_model.summary()"
   ]
  },
  {
   "cell_type": "code",
   "execution_count": 8,
   "id": "2493d1e0",
   "metadata": {
    "execution": {
     "iopub.execute_input": "2024-04-13T11:26:19.876932Z",
     "iopub.status.busy": "2024-04-13T11:26:19.876649Z",
     "iopub.status.idle": "2024-04-13T11:26:19.902018Z",
     "shell.execute_reply": "2024-04-13T11:26:19.901334Z"
    },
    "papermill": {
     "duration": 0.0366,
     "end_time": "2024-04-13T11:26:19.903822",
     "exception": false,
     "start_time": "2024-04-13T11:26:19.867222",
     "status": "completed"
    },
    "tags": []
   },
   "outputs": [],
   "source": [
    "for layer in base_model.layers:\n",
    "    layer.trainable = False\n",
    "\n",
    "# Compile the model\n",
    "learning_rate = 0.0001\n",
    "optimizer = Adam(learning_rate=learning_rate)\n",
    "combined_model.compile(optimizer=optimizer, loss='binary_crossentropy', metrics=['accuracy'])\n"
   ]
  },
  {
   "cell_type": "code",
   "execution_count": 9,
   "id": "4cea44f1",
   "metadata": {
    "execution": {
     "iopub.execute_input": "2024-04-13T11:26:19.919981Z",
     "iopub.status.busy": "2024-04-13T11:26:19.919693Z",
     "iopub.status.idle": "2024-04-13T11:26:19.931874Z",
     "shell.execute_reply": "2024-04-13T11:26:19.931236Z"
    },
    "papermill": {
     "duration": 0.022368,
     "end_time": "2024-04-13T11:26:19.933771",
     "exception": false,
     "start_time": "2024-04-13T11:26:19.911403",
     "status": "completed"
    },
    "tags": []
   },
   "outputs": [],
   "source": [
    "combined_model.compile(optimizer=optimizer, loss='binary_crossentropy',\n",
    "              metrics=['accuracy'])"
   ]
  },
  {
   "cell_type": "code",
   "execution_count": null,
   "id": "84ad5a70",
   "metadata": {
    "execution": {
     "iopub.execute_input": "2024-04-13T11:26:19.949953Z",
     "iopub.status.busy": "2024-04-13T11:26:19.949672Z",
     "iopub.status.idle": "2024-04-13T11:26:19.954390Z",
     "shell.execute_reply": "2024-04-13T11:26:19.953502Z"
    },
    "papermill": {
     "duration": 0.014895,
     "end_time": "2024-04-13T11:26:19.956285",
     "exception": false,
     "start_time": "2024-04-13T11:26:19.941390",
     "status": "completed"
    },
    "tags": []
   },
   "outputs": [],
   "source": [
    "import tensorflow as tf\n",
    "print(\"Num GPUs Available: \", len(tf.config.experimental.list_physical_devices('GPU')))"
   ]
  },
  {
   "cell_type": "code",
   "execution_count": null,
   "id": "55da24bb",
   "metadata": {
    "execution": {
     "iopub.execute_input": "2024-04-13T11:26:19.973202Z",
     "iopub.status.busy": "2024-04-13T11:26:19.972919Z",
     "iopub.status.idle": "2024-04-13T19:42:33.375494Z",
     "shell.execute_reply": "2024-04-13T19:42:33.374553Z"
    },
    "papermill": {
     "duration": 29776.029475,
     "end_time": "2024-04-13T19:42:35.993565",
     "exception": false,
     "start_time": "2024-04-13T11:26:19.964090",
     "status": "completed"
    },
    "tags": []
   },
   "outputs": [],
   "source": [
    "with tf.device('/GPU:1'):\n",
    "    history = combined_model.fit(\n",
    "        training_set,\n",
    "        epochs=15,\n",
    "        validation_data=val_set\n",
    "    )\n"
   ]
  },
  {
   "cell_type": "code",
   "execution_count": null,
   "id": "599ce3f2",
   "metadata": {
    "execution": {
     "iopub.execute_input": "2024-04-13T19:42:41.546555Z",
     "iopub.status.busy": "2024-04-13T19:42:41.545762Z",
     "iopub.status.idle": "2024-04-13T19:42:41.836589Z",
     "shell.execute_reply": "2024-04-13T19:42:41.835706Z"
    },
    "papermill": {
     "duration": 3.086067,
     "end_time": "2024-04-13T19:42:41.838663",
     "exception": false,
     "start_time": "2024-04-13T19:42:38.752596",
     "status": "completed"
    },
    "tags": []
   },
   "outputs": [],
   "source": [
    "# Plot training & validation accuracy values\n",
    "plt.plot(history.history['accuracy'])\n",
    "plt.plot(history.history['val_accuracy'])\n",
    "plt.title('Model Accuracy')\n",
    "plt.xlabel('Epoch')\n",
    "plt.ylabel('Accuracy')\n",
    "plt.legend(['Train', 'Validation'], loc='upper left')\n",
    "plt.show()"
   ]
  },
  {
   "cell_type": "code",
   "execution_count": null,
   "id": "2274587b",
   "metadata": {
    "execution": {
     "iopub.execute_input": "2024-04-13T19:42:47.260242Z",
     "iopub.status.busy": "2024-04-13T19:42:47.259865Z",
     "iopub.status.idle": "2024-04-13T19:42:47.548110Z",
     "shell.execute_reply": "2024-04-13T19:42:47.547202Z"
    },
    "papermill": {
     "duration": 3.099481,
     "end_time": "2024-04-13T19:42:47.550525",
     "exception": false,
     "start_time": "2024-04-13T19:42:44.451044",
     "status": "completed"
    },
    "tags": []
   },
   "outputs": [],
   "source": [
    "# Plot training & validation loss values\n",
    "plt.plot(history.history['loss'])\n",
    "plt.plot(history.history['val_loss'])\n",
    "plt.title('Model Loss')\n",
    "plt.xlabel('Epoch')\n",
    "plt.ylabel('Loss')\n",
    "plt.legend(['Train', 'Validation'], loc='upper left')\n",
    "plt.show()"
   ]
  },
  {
   "cell_type": "code",
   "execution_count": null,
   "id": "4a412a16",
   "metadata": {
    "execution": {
     "iopub.execute_input": "2024-04-13T19:42:52.962221Z",
     "iopub.status.busy": "2024-04-13T19:42:52.961463Z",
     "iopub.status.idle": "2024-04-13T19:44:06.495368Z",
     "shell.execute_reply": "2024-04-13T19:44:06.494490Z"
    },
    "papermill": {
     "duration": 76.293271,
     "end_time": "2024-04-13T19:44:06.497513",
     "exception": false,
     "start_time": "2024-04-13T19:42:50.204242",
     "status": "completed"
    },
    "tags": []
   },
   "outputs": [],
   "source": [
    "# Predict the classes using the test set\n",
    "test_pred = combined_model.predict(test_set)\n",
    "test_pred_classes = np.round(test_pred)\n",
    "\n",
    "# Get the true classes of the test set\n",
    "test_true_classes = test_set.classes"
   ]
  },
  {
   "cell_type": "code",
   "execution_count": null,
   "id": "2c3bb6e1",
   "metadata": {
    "execution": {
     "iopub.execute_input": "2024-04-13T19:44:11.955114Z",
     "iopub.status.busy": "2024-04-13T19:44:11.954277Z",
     "iopub.status.idle": "2024-04-13T19:44:12.188518Z",
     "shell.execute_reply": "2024-04-13T19:44:12.187535Z"
    },
    "papermill": {
     "duration": 2.882506,
     "end_time": "2024-04-13T19:44:12.190701",
     "exception": false,
     "start_time": "2024-04-13T19:44:09.308195",
     "status": "completed"
    },
    "tags": []
   },
   "outputs": [],
   "source": [
    "# Plot confusion matrix as a heatmap\n",
    "# Generate confusion matrix\n",
    "cm = confusion_matrix(test_true_classes, test_pred_classes)\n",
    "plt.figure(figsize=(8, 6))\n",
    "sns.heatmap(cm, annot=True, fmt='d', cmap='Blues',\n",
    "            xticklabels=test_set.class_indices.keys(),\n",
    "            yticklabels=test_set.class_indices.keys())\n",
    "plt.xlabel('Predicted')\n",
    "plt.ylabel('True')\n",
    "plt.title('Confusion Matrix')\n",
    "plt.show()"
   ]
  },
  {
   "cell_type": "code",
   "execution_count": null,
   "id": "c73dfe2b",
   "metadata": {
    "execution": {
     "iopub.execute_input": "2024-04-13T19:44:17.768973Z",
     "iopub.status.busy": "2024-04-13T19:44:17.768220Z",
     "iopub.status.idle": "2024-04-13T19:44:40.051075Z",
     "shell.execute_reply": "2024-04-13T19:44:40.050085Z"
    },
    "papermill": {
     "duration": 25.084389,
     "end_time": "2024-04-13T19:44:40.053197",
     "exception": false,
     "start_time": "2024-04-13T19:44:14.968808",
     "status": "completed"
    },
    "tags": []
   },
   "outputs": [],
   "source": [
    "evaluation = combined_model.evaluate(test_set)"
   ]
  },
  {
   "cell_type": "code",
   "execution_count": null,
   "id": "e2846102",
   "metadata": {
    "execution": {
     "iopub.execute_input": "2024-04-13T19:44:45.578094Z",
     "iopub.status.busy": "2024-04-13T19:44:45.577335Z",
     "iopub.status.idle": "2024-04-13T19:44:45.582423Z",
     "shell.execute_reply": "2024-04-13T19:44:45.581477Z"
    },
    "papermill": {
     "duration": 2.839339,
     "end_time": "2024-04-13T19:44:45.584783",
     "exception": false,
     "start_time": "2024-04-13T19:44:42.745444",
     "status": "completed"
    },
    "tags": []
   },
   "outputs": [],
   "source": [
    "print(\"Test Accuracy: {:.2f}%\".format(evaluation[1] * 100))"
   ]
  },
  {
   "cell_type": "code",
   "execution_count": null,
   "id": "dca79920",
   "metadata": {
    "execution": {
     "iopub.execute_input": "2024-04-13T19:44:51.189493Z",
     "iopub.status.busy": "2024-04-13T19:44:51.189142Z",
     "iopub.status.idle": "2024-04-13T19:44:51.230854Z",
     "shell.execute_reply": "2024-04-13T19:44:51.229732Z"
    },
    "papermill": {
     "duration": 2.961375,
     "end_time": "2024-04-13T19:44:51.233462",
     "exception": false,
     "start_time": "2024-04-13T19:44:48.272087",
     "status": "completed"
    },
    "tags": []
   },
   "outputs": [],
   "source": [
    "#Classification report\n",
    "report = classification_report(test_true_classes, test_pred_classes, target_names=[\"Class 0\", \"Class 1\"], labels=[0, 1], digits=4)\n",
    "\n",
    "print(\"Classification Report:\\n\", report)"
   ]
  },
  {
   "cell_type": "code",
   "execution_count": null,
   "id": "6fd15f59",
   "metadata": {
    "execution": {
     "iopub.execute_input": "2024-04-13T19:44:56.808649Z",
     "iopub.status.busy": "2024-04-13T19:44:56.807990Z",
     "iopub.status.idle": "2024-04-13T19:44:57.043513Z",
     "shell.execute_reply": "2024-04-13T19:44:57.042693Z"
    },
    "papermill": {
     "duration": 2.92141,
     "end_time": "2024-04-13T19:44:57.045652",
     "exception": false,
     "start_time": "2024-04-13T19:44:54.124242",
     "status": "completed"
    },
    "tags": []
   },
   "outputs": [],
   "source": [
    "# Calculate ROC curve\n",
    "fpr, tpr, thresholds = roc_curve(test_true_classes, test_pred)\n",
    "\n",
    "# Calculate AUC\n",
    "auc = roc_auc_score(test_true_classes, test_pred)\n",
    "\n",
    "# Plot ROC curve\n",
    "plt.figure(figsize=(8, 6))\n",
    "plt.plot(fpr, tpr, label='ROC curve (AUC = {:.4f})'.format(auc))\n",
    "plt.plot([0, 1], [0, 1], 'k--', label='Random')\n",
    "plt.xlabel('False Positive Rate')\n",
    "plt.ylabel('True Positive Rate')\n",
    "plt.title('Receiver Operating Characteristic (ROC) Curve')\n",
    "plt.legend(loc='lower right')\n",
    "plt.grid(True)\n",
    "plt.show()"
   ]
  },
  {
   "cell_type": "code",
   "execution_count": null,
   "id": "ccea70e3",
   "metadata": {
    "execution": {
     "iopub.execute_input": "2024-04-13T19:45:02.575546Z",
     "iopub.status.busy": "2024-04-13T19:45:02.574925Z",
     "iopub.status.idle": "2024-04-13T19:45:02.788303Z",
     "shell.execute_reply": "2024-04-13T19:45:02.787402Z"
    },
    "papermill": {
     "duration": 2.899998,
     "end_time": "2024-04-13T19:45:02.790624",
     "exception": false,
     "start_time": "2024-04-13T19:44:59.890626",
     "status": "completed"
    },
    "tags": []
   },
   "outputs": [],
   "source": [
    "from sklearn.metrics import precision_recall_curve, auc\n",
    "# Compute precision and recall\n",
    "precision, recall, thresholds = precision_recall_curve(test_true_classes, test_pred_classes)\n",
    "\n",
    "# Calculate the area under the precision-recall curve (AUC-PR)\n",
    "auc_pr = auc(recall, precision)\n",
    "\n",
    "# Plot the precision-recall curve\n",
    "plt.figure(figsize=(8, 6))\n",
    "plt.plot(recall, precision, label=f'Precision-Recall Curve (AUC = {auc_pr:.2f})')\n",
    "plt.xlabel('Recall')\n",
    "plt.ylabel('Precision')\n",
    "plt.title('Precision-Recall Curve')\n",
    "plt.legend()\n",
    "plt.show()"
   ]
  },
  {
   "cell_type": "code",
   "execution_count": null,
   "id": "a19f3051",
   "metadata": {
    "execution": {
     "iopub.execute_input": "2024-04-13T19:45:08.487002Z",
     "iopub.status.busy": "2024-04-13T19:45:08.486141Z",
     "iopub.status.idle": "2024-04-13T19:45:08.496742Z",
     "shell.execute_reply": "2024-04-13T19:45:08.495640Z"
    },
    "papermill": {
     "duration": 2.846028,
     "end_time": "2024-04-13T19:45:08.499022",
     "exception": false,
     "start_time": "2024-04-13T19:45:05.652994",
     "status": "completed"
    },
    "tags": []
   },
   "outputs": [],
   "source": [
    "# Compute confusion matrix\n",
    "tn, fp, fn, tp = confusion_matrix(test_true_classes, test_pred_classes).ravel()\n",
    "\n",
    "# Calculate sensitivity and specificity\n",
    "sensitivity = tp / (tp + fn)\n",
    "specificity = tn / (tn + fp)\n",
    "\n",
    "print(f'Sensitivity (True Positive Rate): {sensitivity:.4f}')\n",
    "print(f'Specificity (True Negative Rate): {specificity:.4f}')"
   ]
  },
  {
   "cell_type": "code",
   "execution_count": null,
   "id": "359ff8a0",
   "metadata": {
    "execution": {
     "iopub.execute_input": "2024-04-13T19:45:14.030953Z",
     "iopub.status.busy": "2024-04-13T19:45:14.030573Z",
     "iopub.status.idle": "2024-04-13T19:45:14.047793Z",
     "shell.execute_reply": "2024-04-13T19:45:14.046893Z"
    },
    "papermill": {
     "duration": 2.852157,
     "end_time": "2024-04-13T19:45:14.049609",
     "exception": false,
     "start_time": "2024-04-13T19:45:11.197452",
     "status": "completed"
    },
    "tags": []
   },
   "outputs": [],
   "source": [
    "from sklearn.metrics import f1_score, accuracy_score, confusion_matrix\n",
    "\n",
    "# Assuming you have obtained test_pred_classes and test_true_classes as described earlier\n",
    "\n",
    "# Calculate F1 score for the test classes\n",
    "f1 = f1_score(test_true_classes, test_pred_classes)\n",
    "# Calculate accuracy to get error rate\n",
    "accuracy = accuracy_score(test_true_classes, test_pred_classes)\n",
    "error_rate = 1 - accuracy\n",
    "# Calculate G-mean\n",
    "g_mean = (sensitivity * specificity) ** 0.5\n",
    "\n",
    "# Calculate F-measure\n",
    "f_measure = 2 * ((sensitivity * specificity) / (sensitivity + specificity))\n",
    "\n",
    "print(f'F1 Score: {f1:.4f}')\n",
    "print(f'Error Rate: {error_rate:.4f}')\n",
    "print(f'G-mean: {g_mean:.4f}')\n",
    "print(f'F-measure: {f_measure:.4f}')"
   ]
  },
  {
   "cell_type": "code",
   "execution_count": 23,
   "id": "0d7087f2",
   "metadata": {
    "execution": {
     "iopub.execute_input": "2024-04-13T19:45:19.558054Z",
     "iopub.status.busy": "2024-04-13T19:45:19.557135Z",
     "iopub.status.idle": "2024-04-13T19:45:19.873317Z",
     "shell.execute_reply": "2024-04-13T19:45:19.872313Z"
    },
    "papermill": {
     "duration": 3.146684,
     "end_time": "2024-04-13T19:45:19.875632",
     "exception": false,
     "start_time": "2024-04-13T19:45:16.728948",
     "status": "completed"
    },
    "tags": []
   },
   "outputs": [],
   "source": [
    "import requests\n",
    "from PIL import Image\n",
    "from io import BytesIO\n",
    "\n",
    "# image_url = \"https://assets.bwbx.io/images/users/iqjWHBFdfxIU/irCSqgfWvpSw/v1/-1x-1.jpg\"\n",
    "image_url = \"https://cdn.britannica.com/86/182086-050-5FB81069/singer-Taylor-swift-2013.jpg\"\n",
    "response = requests.get(image_url)\n",
    "img = Image.open(BytesIO(response.content))\n"
   ]
  },
  {
   "cell_type": "code",
   "execution_count": 24,
   "id": "7faa536e",
   "metadata": {
    "execution": {
     "iopub.execute_input": "2024-04-13T19:45:25.466550Z",
     "iopub.status.busy": "2024-04-13T19:45:25.465708Z",
     "iopub.status.idle": "2024-04-13T19:45:25.501129Z",
     "shell.execute_reply": "2024-04-13T19:45:25.500190Z"
    },
    "papermill": {
     "duration": 2.715741,
     "end_time": "2024-04-13T19:45:25.503121",
     "exception": false,
     "start_time": "2024-04-13T19:45:22.787380",
     "status": "completed"
    },
    "tags": []
   },
   "outputs": [],
   "source": [
    "img = img.resize((224, 224))  # Adjust size according to your model\n",
    "img_array = image.img_to_array(img)\n",
    "img_array = np.expand_dims(img_array, axis=0)\n",
    "img_array /= 255.0  # Normalize pixel values\n"
   ]
  },
  {
   "cell_type": "code",
   "execution_count": null,
   "id": "4bd2e40a",
   "metadata": {
    "execution": {
     "iopub.execute_input": "2024-04-13T19:45:31.010616Z",
     "iopub.status.busy": "2024-04-13T19:45:31.010254Z",
     "iopub.status.idle": "2024-04-13T19:45:32.664533Z",
     "shell.execute_reply": "2024-04-13T19:45:32.663451Z"
    },
    "papermill": {
     "duration": 4.354335,
     "end_time": "2024-04-13T19:45:32.666449",
     "exception": false,
     "start_time": "2024-04-13T19:45:28.312114",
     "status": "completed"
    },
    "tags": []
   },
   "outputs": [],
   "source": [
    "prediction = combined_model.predict(img_array)\n",
    "if prediction[0][0] >= 0.5:\n",
    "    print(\"The image is predicted as a deepfake.\")\n",
    "else:\n",
    "    print(\"The image is predicted as real.\")\n"
   ]
  },
  {
   "cell_type": "code",
   "execution_count": null,
   "id": "3cd2c3e6",
   "metadata": {
    "execution": {
     "iopub.execute_input": "2024-04-13T19:45:38.302631Z",
     "iopub.status.busy": "2024-04-13T19:45:38.302276Z",
     "iopub.status.idle": "2024-04-13T19:45:38.796750Z",
     "shell.execute_reply": "2024-04-13T19:45:38.795740Z"
    },
    "papermill": {
     "duration": 3.338215,
     "end_time": "2024-04-13T19:45:38.798647",
     "exception": false,
     "start_time": "2024-04-13T19:45:35.460432",
     "status": "completed"
    },
    "tags": []
   },
   "outputs": [],
   "source": [
    "# Save the model\n",
    "model_save_path = \"deepfake_detection_model.h5\"\n",
    "combined_model.save(model_save_path)\n",
    "print(\"Model saved at:\", model_save_path)\n"
   ]
  },
  {
   "cell_type": "code",
   "execution_count": null,
   "id": "406c1479",
   "metadata": {
    "papermill": {
     "duration": 2.843479,
     "end_time": "2024-04-13T19:45:44.328777",
     "exception": false,
     "start_time": "2024-04-13T19:45:41.485298",
     "status": "completed"
    },
    "tags": []
   },
   "outputs": [],
   "source": []
  }
 ],
 "metadata": {
  "kaggle": {
   "accelerator": "gpu",
   "dataSources": [
    {
     "datasetId": 1909705,
     "sourceId": 3134515,
     "sourceType": "datasetVersion"
    },
    {
     "datasetId": 4774523,
     "sourceId": 8087938,
     "sourceType": "datasetVersion"
    }
   ],
   "dockerImageVersionId": 30636,
   "isGpuEnabled": true,
   "isInternetEnabled": true,
   "language": "python",
   "sourceType": "notebook"
  },
  "kernelspec": {
   "display_name": "Python 3",
   "language": "python",
   "name": "python3"
  },
  "language_info": {
   "codemirror_mode": {
    "name": "ipython",
    "version": 3
   },
   "file_extension": ".py",
   "mimetype": "text/x-python",
   "name": "python",
   "nbconvert_exporter": "python",
   "pygments_lexer": "ipython3",
   "version": "3.10.12"
  },
  "papermill": {
   "default_parameters": {},
   "duration": 30148.236171,
   "end_time": "2024-04-13T19:45:49.580878",
   "environment_variables": {},
   "exception": null,
   "input_path": "__notebook__.ipynb",
   "output_path": "__notebook__.ipynb",
   "parameters": {},
   "start_time": "2024-04-13T11:23:21.344707",
   "version": "2.4.0"
  }
 },
 "nbformat": 4,
 "nbformat_minor": 5
}
